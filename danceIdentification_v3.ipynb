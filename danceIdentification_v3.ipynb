{
  "nbformat": 4,
  "nbformat_minor": 0,
  "metadata": {
    "colab": {
      "provenance": [],
      "authorship_tag": "ABX9TyN/Jl0yDPvPJIaKmfXy4x7Q",
      "include_colab_link": true
    },
    "kernelspec": {
      "name": "python3",
      "display_name": "Python 3"
    },
    "accelerator": "GPU"
  },
  "cells": [
    {
      "cell_type": "markdown",
      "metadata": {
        "id": "view-in-github",
        "colab_type": "text"
      },
      "source": [
        "<a href=\"https://colab.research.google.com/github/AkM-2018/DanceIdentification/blob/main/danceIdentification_v3.ipynb\" target=\"_parent\"><img src=\"https://colab.research.google.com/assets/colab-badge.svg\" alt=\"Open In Colab\"/></a>"
      ]
    },
    {
      "cell_type": "markdown",
      "metadata": {
        "id": "qOo-xzUXfgU9"
      },
      "source": [
        "###Importing the necessary"
      ]
    },
    {
      "cell_type": "code",
      "metadata": {
        "id": "RMUKYUA7d2Yf"
      },
      "source": [
        "import numpy as np\n",
        "import tensorflow as tf\n",
        "from tensorflow import keras\n",
        "from tensorflow.keras.models import Sequential, Model\n",
        "from tensorflow.keras.layers import Activation, Dense, Flatten, BatchNormalization, Conv2D, MaxPool2D\n",
        "from tensorflow.keras.optimizers import Adam\n",
        "from tensorflow.keras.metrics import categorical_crossentropy\n",
        "from tensorflow.keras.preprocessing.image import ImageDataGenerator\n",
        "from tensorflow.keras.preprocessing import image\n",
        "from tensorflow.keras.applications import imagenet_utils\n",
        "from sklearn.metrics import confusion_matrix\n",
        "import itertools\n",
        "import os\n",
        "import shutil\n",
        "import random\n",
        "import glob\n",
        "import matplotlib.pyplot as plt\n",
        "import warnings\n",
        "warnings.simplefilter(action='ignore', category=FutureWarning)\n",
        "%matplotlib inline"
      ],
      "execution_count": null,
      "outputs": []
    },
    {
      "cell_type": "markdown",
      "metadata": {
        "id": "r6iq-t08fmKT"
      },
      "source": [
        "###Data Preparation"
      ]
    },
    {
      "cell_type": "code",
      "metadata": {
        "id": "gz0kMHDHfoJA",
        "colab": {
          "base_uri": "https://localhost:8080/",
          "height": 121
        },
        "outputId": "ed69718f-d7a1-4ba4-c14c-135f391010bb"
      },
      "source": [
        "from google.colab import drive\n",
        "drive.mount('/content/drive')"
      ],
      "execution_count": null,
      "outputs": [
        {
          "output_type": "stream",
          "text": [
            "Go to this URL in a browser: https://accounts.google.com/o/oauth2/auth?client_id=947318989803-6bn6qk8qdgf4n4g3pfee6491hc0brc4i.apps.googleusercontent.com&redirect_uri=urn%3aietf%3awg%3aoauth%3a2.0%3aoob&response_type=code&scope=email%20https%3a%2f%2fwww.googleapis.com%2fauth%2fdocs.test%20https%3a%2f%2fwww.googleapis.com%2fauth%2fdrive%20https%3a%2f%2fwww.googleapis.com%2fauth%2fdrive.photos.readonly%20https%3a%2f%2fwww.googleapis.com%2fauth%2fpeopleapi.readonly\n",
            "\n",
            "Enter your authorization code:\n",
            "··········\n",
            "Mounted at /content/drive\n"
          ],
          "name": "stdout"
        }
      ]
    },
    {
      "cell_type": "code",
      "metadata": {
        "id": "XY22d7PLgNb3"
      },
      "source": [
        "train_path = '/content/drive/My Drive/danceClassification/train'\n",
        "valid_path = '/content/drive/My Drive/danceClassification/valid'\n",
        "test_path = '/content/drive/My Drive/danceClassification/test'"
      ],
      "execution_count": null,
      "outputs": []
    },
    {
      "cell_type": "code",
      "metadata": {
        "id": "igo6Ra2ilCxG",
        "colab": {
          "base_uri": "https://localhost:8080/",
          "height": 34
        },
        "outputId": "ceea0d24-d990-4637-d2fa-896341edf8c0"
      },
      "source": [
        "#list = os.listdir(train_path+'/sattriya') # dir is your directory path\n",
        "#number_files = len(list)\n",
        "#temp = number_files // 5\n",
        "#print(temp)"
      ],
      "execution_count": null,
      "outputs": [
        {
          "output_type": "stream",
          "text": [
            "9\n"
          ],
          "name": "stdout"
        }
      ]
    },
    {
      "cell_type": "code",
      "metadata": {
        "id": "rXPuxtCOrPMi"
      },
      "source": [
        "#os.chdir('/content/drive/My Drive/danceClassification')\n",
        "#os.makedirs('/content/drive/My Drive/danceClassification/valid/sattriya')"
      ],
      "execution_count": null,
      "outputs": []
    },
    {
      "cell_type": "code",
      "metadata": {
        "id": "DFaG-pkhlT-8"
      },
      "source": [
        "#os.chdir('/content/drive/My Drive/danceClassification/train/sattriya')\n",
        "#for c in random.sample(glob.glob('*.jpg'), temp):\n",
        "#    shutil.move(c,'/content/drive/My Drive/danceClassification/valid/sattriya')#"
      ],
      "execution_count": null,
      "outputs": []
    },
    {
      "cell_type": "code",
      "metadata": {
        "id": "n2Zwwzksw6Lm",
        "colab": {
          "base_uri": "https://localhost:8080/",
          "height": 67
        },
        "outputId": "650a1fbf-292f-4e1b-a550-5f02b0c9392b"
      },
      "source": [
        "train_batches = ImageDataGenerator(preprocessing_function=tf.keras.applications.vgg16.preprocess_input) \\\n",
        "     .flow_from_directory(directory=train_path, target_size=(224,224), classes=['bharatanatyam','kathak','kathakali','kuchipudi','manipuri','mohiniyattam','odissi','sattriya'])\n",
        "\n",
        "valid_batches = ImageDataGenerator(preprocessing_function=tf.keras.applications.vgg16.preprocess_input) \\\n",
        "     .flow_from_directory(directory=valid_path, target_size=(224,224), classes=['bharatanatyam','kathak','kathakali','kuchipudi','manipuri','mohiniyattam','odissi','sattriya'])\n",
        "\n",
        "test_batches = ImageDataGenerator(preprocessing_function=tf.keras.applications.vgg16.preprocess_input) \\\n",
        "     .flow_from_directory(directory=test_path, target_size=(224,224), classes=['Unknown'],shuffle=False)"
      ],
      "execution_count": null,
      "outputs": [
        {
          "output_type": "stream",
          "text": [
            "Found 294 images belonging to 8 classes.\n",
            "Found 70 images belonging to 8 classes.\n",
            "Found 156 images belonging to 1 classes.\n"
          ],
          "name": "stdout"
        }
      ]
    },
    {
      "cell_type": "markdown",
      "metadata": {
        "id": "M_xv2W9VzjGC"
      },
      "source": [
        "###Modify Model"
      ]
    },
    {
      "cell_type": "code",
      "metadata": {
        "id": "uZtOrRRnwfG4",
        "colab": {
          "base_uri": "https://localhost:8080/",
          "height": 50
        },
        "outputId": "9c673d7a-32f1-4ae1-c55d-5bce6b92bf7f"
      },
      "source": [
        "vgg16_model = tf.keras.applications.vgg16.VGG16()"
      ],
      "execution_count": null,
      "outputs": [
        {
          "output_type": "stream",
          "text": [
            "Downloading data from https://storage.googleapis.com/tensorflow/keras-applications/vgg16/vgg16_weights_tf_dim_ordering_tf_kernels.h5\n",
            "553467904/553467096 [==============================] - 10s 0us/step\n"
          ],
          "name": "stdout"
        }
      ]
    },
    {
      "cell_type": "code",
      "metadata": {
        "id": "N3o0p2jnzmhk"
      },
      "source": [
        "model = Sequential()\n",
        "for layer in vgg16_model.layers[:-1]:\n",
        "  model.add(layer)"
      ],
      "execution_count": null,
      "outputs": []
    },
    {
      "cell_type": "code",
      "metadata": {
        "id": "BG86Z6i-ztwD"
      },
      "source": [
        "for layer in model.layers:\n",
        "  layer.trainable = False"
      ],
      "execution_count": null,
      "outputs": []
    },
    {
      "cell_type": "code",
      "metadata": {
        "id": "Ztm1OAYIzxnm"
      },
      "source": [
        "model.add(Dense(units=8, activation='softmax'))"
      ],
      "execution_count": null,
      "outputs": []
    },
    {
      "cell_type": "code",
      "metadata": {
        "id": "2DLLL8npz4Iu",
        "colab": {
          "base_uri": "https://localhost:8080/",
          "height": 890
        },
        "outputId": "5bb84295-bf65-4746-d56b-b7cccf606528"
      },
      "source": [
        "model.summary()"
      ],
      "execution_count": null,
      "outputs": [
        {
          "output_type": "stream",
          "text": [
            "Model: \"sequential\"\n",
            "_________________________________________________________________\n",
            "Layer (type)                 Output Shape              Param #   \n",
            "=================================================================\n",
            "block1_conv1 (Conv2D)        (None, 224, 224, 64)      1792      \n",
            "_________________________________________________________________\n",
            "block1_conv2 (Conv2D)        (None, 224, 224, 64)      36928     \n",
            "_________________________________________________________________\n",
            "block1_pool (MaxPooling2D)   (None, 112, 112, 64)      0         \n",
            "_________________________________________________________________\n",
            "block2_conv1 (Conv2D)        (None, 112, 112, 128)     73856     \n",
            "_________________________________________________________________\n",
            "block2_conv2 (Conv2D)        (None, 112, 112, 128)     147584    \n",
            "_________________________________________________________________\n",
            "block2_pool (MaxPooling2D)   (None, 56, 56, 128)       0         \n",
            "_________________________________________________________________\n",
            "block3_conv1 (Conv2D)        (None, 56, 56, 256)       295168    \n",
            "_________________________________________________________________\n",
            "block3_conv2 (Conv2D)        (None, 56, 56, 256)       590080    \n",
            "_________________________________________________________________\n",
            "block3_conv3 (Conv2D)        (None, 56, 56, 256)       590080    \n",
            "_________________________________________________________________\n",
            "block3_pool (MaxPooling2D)   (None, 28, 28, 256)       0         \n",
            "_________________________________________________________________\n",
            "block4_conv1 (Conv2D)        (None, 28, 28, 512)       1180160   \n",
            "_________________________________________________________________\n",
            "block4_conv2 (Conv2D)        (None, 28, 28, 512)       2359808   \n",
            "_________________________________________________________________\n",
            "block4_conv3 (Conv2D)        (None, 28, 28, 512)       2359808   \n",
            "_________________________________________________________________\n",
            "block4_pool (MaxPooling2D)   (None, 14, 14, 512)       0         \n",
            "_________________________________________________________________\n",
            "block5_conv1 (Conv2D)        (None, 14, 14, 512)       2359808   \n",
            "_________________________________________________________________\n",
            "block5_conv2 (Conv2D)        (None, 14, 14, 512)       2359808   \n",
            "_________________________________________________________________\n",
            "block5_conv3 (Conv2D)        (None, 14, 14, 512)       2359808   \n",
            "_________________________________________________________________\n",
            "block5_pool (MaxPooling2D)   (None, 7, 7, 512)         0         \n",
            "_________________________________________________________________\n",
            "flatten (Flatten)            (None, 25088)             0         \n",
            "_________________________________________________________________\n",
            "fc1 (Dense)                  (None, 4096)              102764544 \n",
            "_________________________________________________________________\n",
            "fc2 (Dense)                  (None, 4096)              16781312  \n",
            "_________________________________________________________________\n",
            "dense (Dense)                (None, 8)                 32776     \n",
            "=================================================================\n",
            "Total params: 134,293,320\n",
            "Trainable params: 32,776\n",
            "Non-trainable params: 134,260,544\n",
            "_________________________________________________________________\n"
          ],
          "name": "stdout"
        }
      ]
    },
    {
      "cell_type": "code",
      "metadata": {
        "id": "jD1LNjP0z536"
      },
      "source": [
        "model.compile(optimizer=Adam(learning_rate=0.0001), loss='categorical_crossentropy', metrics=['accuracy'])"
      ],
      "execution_count": null,
      "outputs": []
    },
    {
      "cell_type": "code",
      "metadata": {
        "id": "tFuW0rDI0EVI",
        "colab": {
          "base_uri": "https://localhost:8080/",
          "height": 370
        },
        "outputId": "d77fc608-8b5c-4562-e1f2-7fefb368c462"
      },
      "source": [
        "model.fit(x=train_batches, validation_data=valid_batches, epochs=10, verbose=1)"
      ],
      "execution_count": null,
      "outputs": [
        {
          "output_type": "stream",
          "text": [
            "Epoch 1/10\n",
            "10/10 [==============================] - 143s 14s/step - loss: 2.6075 - accuracy: 0.1497 - val_loss: 2.4284 - val_accuracy: 0.2571\n",
            "Epoch 2/10\n",
            "10/10 [==============================] - 4s 427ms/step - loss: 2.1533 - accuracy: 0.2721 - val_loss: 2.1730 - val_accuracy: 0.2571\n",
            "Epoch 3/10\n",
            "10/10 [==============================] - 4s 449ms/step - loss: 1.8547 - accuracy: 0.3503 - val_loss: 1.9895 - val_accuracy: 0.3143\n",
            "Epoch 4/10\n",
            "10/10 [==============================] - 4s 442ms/step - loss: 1.6360 - accuracy: 0.4218 - val_loss: 1.8488 - val_accuracy: 0.3857\n",
            "Epoch 5/10\n",
            "10/10 [==============================] - 4s 435ms/step - loss: 1.4547 - accuracy: 0.4898 - val_loss: 1.7301 - val_accuracy: 0.4286\n",
            "Epoch 6/10\n",
            "10/10 [==============================] - 4s 446ms/step - loss: 1.3074 - accuracy: 0.5374 - val_loss: 1.6312 - val_accuracy: 0.4143\n",
            "Epoch 7/10\n",
            "10/10 [==============================] - 5s 464ms/step - loss: 1.1835 - accuracy: 0.5782 - val_loss: 1.5647 - val_accuracy: 0.4429\n",
            "Epoch 8/10\n",
            "10/10 [==============================] - 4s 436ms/step - loss: 1.0860 - accuracy: 0.6224 - val_loss: 1.5051 - val_accuracy: 0.4714\n",
            "Epoch 9/10\n",
            "10/10 [==============================] - 4s 423ms/step - loss: 0.9939 - accuracy: 0.6735 - val_loss: 1.4602 - val_accuracy: 0.5000\n",
            "Epoch 10/10\n",
            "10/10 [==============================] - 4s 442ms/step - loss: 0.9230 - accuracy: 0.6939 - val_loss: 1.4010 - val_accuracy: 0.5143\n"
          ],
          "name": "stdout"
        },
        {
          "output_type": "execute_result",
          "data": {
            "text/plain": [
              "<tensorflow.python.keras.callbacks.History at 0x7f247d3664e0>"
            ]
          },
          "metadata": {
            "tags": []
          },
          "execution_count": 49
        }
      ]
    },
    {
      "cell_type": "markdown",
      "metadata": {
        "id": "7wDjyN4D5oMv"
      },
      "source": [
        "###Predictions"
      ]
    },
    {
      "cell_type": "code",
      "metadata": {
        "id": "fyiL9amU1EGY",
        "colab": {
          "base_uri": "https://localhost:8080/",
          "height": 34
        },
        "outputId": "08c364d7-8f28-4b20-d5c4-3e4f2f611410"
      },
      "source": [
        "predictions = model.predict(x=test_batches, verbose=1)"
      ],
      "execution_count": null,
      "outputs": [
        {
          "output_type": "stream",
          "text": [
            "5/5 [==============================] - 1s 237ms/step\n"
          ],
          "name": "stdout"
        }
      ]
    },
    {
      "cell_type": "code",
      "metadata": {
        "id": "tvNcg7Br24yx",
        "colab": {
          "base_uri": "https://localhost:8080/",
          "height": 151
        },
        "outputId": "db87d269-7bfa-455f-d125-7bca4c124cff"
      },
      "source": [
        "train_batches.class_indices"
      ],
      "execution_count": null,
      "outputs": [
        {
          "output_type": "execute_result",
          "data": {
            "text/plain": [
              "{'bharatanatyam': 0,\n",
              " 'kathak': 1,\n",
              " 'kathakali': 2,\n",
              " 'kuchipudi': 3,\n",
              " 'manipuri': 4,\n",
              " 'mohiniyattam': 5,\n",
              " 'odissi': 6,\n",
              " 'sattriya': 7}"
            ]
          },
          "metadata": {
            "tags": []
          },
          "execution_count": 65
        }
      ]
    },
    {
      "cell_type": "code",
      "metadata": {
        "id": "PgF0TLkR3dDa",
        "colab": {
          "base_uri": "https://localhost:8080/",
          "height": 101
        },
        "outputId": "61d4f4ec-9e47-41d5-c83f-c5ca535d76da"
      },
      "source": [
        "pred = np.argmax(predictions, axis=1)\n",
        "print(pred)"
      ],
      "execution_count": null,
      "outputs": [
        {
          "output_type": "stream",
          "text": [
            "[4 7 4 5 3 1 6 3 3 1 5 0 1 2 6 3 6 6 1 7 1 0 1 5 7 2 2 2 2 2 7 1 2 2 2 2 2\n",
            " 2 2 2 2 2 3 2 2 2 2 5 5 5 2 5 2 5 7 2 5 5 1 3 7 6 5 5 5 5 1 1 7 7 6 6 7 0\n",
            " 1 0 0 7 3 1 7 3 7 0 3 6 6 0 1 3 6 6 6 6 4 7 0 0 0 1 3 7 0 7 1 4 2 0 3 5 3\n",
            " 3 6 6 7 0 6 6 7 3 6 6 0 6 6 6 5 5 6 7 6 5 1 6 7 6 3 7 6 0 6 3 1 1 5 3 0 6\n",
            " 1 7 4 0 6 4 7 4]\n"
          ],
          "name": "stdout"
        }
      ]
    },
    {
      "cell_type": "markdown",
      "metadata": {
        "id": "2RXw8PTuA8PN"
      },
      "source": [
        "###Submission"
      ]
    },
    {
      "cell_type": "code",
      "metadata": {
        "id": "CLA1SbG78xgP"
      },
      "source": [
        "import os, fnmatch\n",
        "\n",
        "imageVal = []\n",
        "listOfFiles = os.listdir('/content/drive/My Drive/danceClassification/test/Unknown')\n",
        "pattern = \"*.jpg\"\n",
        "for entry in listOfFiles:\n",
        "    if fnmatch.fnmatch(entry, pattern):\n",
        "        imageVal.append(entry)"
      ],
      "execution_count": null,
      "outputs": []
    },
    {
      "cell_type": "code",
      "metadata": {
        "id": "mgcr8YHoA_j_"
      },
      "source": [
        "predNames = []\n",
        "for i in pred:\n",
        "  if i==0:\n",
        "    predNames.append('bharatanatyam')\n",
        "  elif i==1:\n",
        "    predNames.append('kathak')\n",
        "  elif i==2:\n",
        "    predNames.append('kathakali')\n",
        "  elif i==3:\n",
        "    predNames.append('kuchipudi')\n",
        "  elif i==4:\n",
        "    predNames.append('manipuri')\n",
        "  elif i==5:\n",
        "    predNames.append('mohiniyattam')\n",
        "  elif i==6:\n",
        "   predNames.append('odissi')\n",
        "  elif i==7:\n",
        "    predNames.append('sattriya')\n"
      ],
      "execution_count": null,
      "outputs": []
    },
    {
      "cell_type": "code",
      "metadata": {
        "id": "rzw-iozEB5Ut",
        "colab": {
          "base_uri": "https://localhost:8080/",
          "height": 54
        },
        "outputId": "2bfd72f0-92f6-4edf-a628-e6d4b7be506a"
      },
      "source": [
        "print(predNames)"
      ],
      "execution_count": null,
      "outputs": [
        {
          "output_type": "stream",
          "text": [
            "['manipuri', 'sattriya', 'manipuri', 'mohiniyattam', 'kuchipudi', 'kathak', 'odissi', 'kuchipudi', 'kuchipudi', 'kathak', 'mohiniyattam', 'bharatanatyam', 'kathak', 'kathakali', 'odissi', 'kuchipudi', 'odissi', 'odissi', 'kathak', 'sattriya', 'kathak', 'bharatanatyam', 'kathak', 'mohiniyattam', 'sattriya', 'kathakali', 'kathakali', 'kathakali', 'kathakali', 'kathakali', 'sattriya', 'kathak', 'kathakali', 'kathakali', 'kathakali', 'kathakali', 'kathakali', 'kathakali', 'kathakali', 'kathakali', 'kathakali', 'kathakali', 'kuchipudi', 'kathakali', 'kathakali', 'kathakali', 'kathakali', 'mohiniyattam', 'mohiniyattam', 'mohiniyattam', 'kathakali', 'mohiniyattam', 'kathakali', 'mohiniyattam', 'sattriya', 'kathakali', 'mohiniyattam', 'mohiniyattam', 'kathak', 'kuchipudi', 'sattriya', 'odissi', 'mohiniyattam', 'mohiniyattam', 'mohiniyattam', 'mohiniyattam', 'kathak', 'kathak', 'sattriya', 'sattriya', 'odissi', 'odissi', 'sattriya', 'bharatanatyam', 'kathak', 'bharatanatyam', 'bharatanatyam', 'sattriya', 'kuchipudi', 'kathak', 'sattriya', 'kuchipudi', 'sattriya', 'bharatanatyam', 'kuchipudi', 'odissi', 'odissi', 'bharatanatyam', 'kathak', 'kuchipudi', 'odissi', 'odissi', 'odissi', 'odissi', 'manipuri', 'sattriya', 'bharatanatyam', 'bharatanatyam', 'bharatanatyam', 'kathak', 'kuchipudi', 'sattriya', 'bharatanatyam', 'sattriya', 'kathak', 'manipuri', 'kathakali', 'bharatanatyam', 'kuchipudi', 'mohiniyattam', 'kuchipudi', 'kuchipudi', 'odissi', 'odissi', 'sattriya', 'bharatanatyam', 'odissi', 'odissi', 'sattriya', 'kuchipudi', 'odissi', 'odissi', 'bharatanatyam', 'odissi', 'odissi', 'odissi', 'mohiniyattam', 'mohiniyattam', 'odissi', 'sattriya', 'odissi', 'mohiniyattam', 'kathak', 'odissi', 'sattriya', 'odissi', 'kuchipudi', 'sattriya', 'odissi', 'bharatanatyam', 'odissi', 'kuchipudi', 'kathak', 'kathak', 'mohiniyattam', 'kuchipudi', 'bharatanatyam', 'odissi', 'kathak', 'sattriya', 'manipuri', 'bharatanatyam', 'odissi', 'manipuri', 'sattriya', 'manipuri']\n"
          ],
          "name": "stdout"
        }
      ]
    },
    {
      "cell_type": "code",
      "metadata": {
        "id": "5CgexeIn7ARR",
        "colab": {
          "base_uri": "https://localhost:8080/",
          "height": 252
        },
        "outputId": "83b091b2-92c2-40a3-8ea6-b8d62ac4a632"
      },
      "source": [
        "import pandas as pd\n",
        "submission = pd.DataFrame({'Image':imageVal ,'target':predNames})\n",
        "\n",
        "#Visualize the first 5 rows\n",
        "print(submission)"
      ],
      "execution_count": null,
      "outputs": [
        {
          "output_type": "stream",
          "text": [
            "       Image         target\n",
            "0    146.jpg       manipuri\n",
            "1    145.jpg       sattriya\n",
            "2    119.jpg       manipuri\n",
            "3    128.jpg   mohiniyattam\n",
            "4    125.jpg      kuchipudi\n",
            "..       ...            ...\n",
            "151  386.jpg  bharatanatyam\n",
            "152  375.jpg         odissi\n",
            "153  374.jpg       manipuri\n",
            "154  378.jpg       sattriya\n",
            "155    9.jpg       manipuri\n",
            "\n",
            "[156 rows x 2 columns]\n"
          ],
          "name": "stdout"
        }
      ]
    },
    {
      "cell_type": "code",
      "metadata": {
        "id": "fJAVpf6MAQpM",
        "colab": {
          "base_uri": "https://localhost:8080/",
          "height": 34
        },
        "outputId": "51f0eb47-7c28-40a4-f5c3-69f5568903d3"
      },
      "source": [
        "filename = 'prediction.csv'\n",
        "\n",
        "submission.to_csv(filename,index=False)\n",
        "\n",
        "print('Saved file: ' + filename)"
      ],
      "execution_count": null,
      "outputs": [
        {
          "output_type": "stream",
          "text": [
            "Saved file: prediction.csv\n"
          ],
          "name": "stdout"
        }
      ]
    },
    {
      "cell_type": "code",
      "metadata": {
        "id": "zOxpHM8vAdSU"
      },
      "source": [],
      "execution_count": null,
      "outputs": []
    }
  ]
}